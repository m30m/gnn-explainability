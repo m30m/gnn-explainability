{
 "cells": [
  {
   "cell_type": "code",
   "execution_count": 2,
   "metadata": {
    "ExecuteTime": {
     "end_time": "2021-02-03T16:37:22.560920Z",
     "start_time": "2021-02-03T16:37:16.957448Z"
    }
   },
   "outputs": [],
   "source": [
    "import random\n",
    "\n",
    "import os.path as osp\n",
    "\n",
    "import networkx as nx\n",
    "import numpy as np\n",
    "import torch\n",
    "import torch.nn.functional as F\n",
    "from torch.nn import Sequential, Linear, ReLU\n",
    "from torch_geometric.datasets import TUDataset\n",
    "from torch_geometric.data import DataLoader\n",
    "from torch_geometric.utils import from_networkx, to_networkx\n",
    "from torch_geometric.nn import GINConv, global_add_pool, MessagePassing, GraphConv, GCNConv\n",
    "\n",
    "from matplotlib import pyplot as plt\n",
    "from captum.attr import Saliency, IntegratedGradients\n",
    "from tqdm.notebook import tqdm as tq\n",
    "from collections import defaultdict"
   ]
  },
  {
   "cell_type": "markdown",
   "metadata": {},
   "source": [
    "# Creating a dataset\n",
    "We create a $G_{n,p}$ random graph with $n=20$ and $p=0.2$. Initially the color for all nodes are blue (constant feature=1). We randomly select 3 nodes and assign them the color yellow(feature=0) such that there is at most on edge between two yellow nodes, therefore the explanation is unique. The task is to classify whether a graph has an edge between two yellow nodes or not."
   ]
  },
  {
   "cell_type": "code",
   "execution_count": 3,
   "metadata": {
    "ExecuteTime": {
     "end_time": "2021-02-03T16:37:22.578036Z",
     "start_time": "2021-02-03T16:37:22.564327Z"
    }
   },
   "outputs": [],
   "source": [
    "def create_graph():\n",
    "    g=nx.erdos_renyi_graph(20,0.2)\n",
    "    while True:\n",
    "        colored_nodes = random.sample(list(g.nodes()),3)\n",
    "        label = 0\n",
    "        colored_edges = 0\n",
    "        for u in colored_nodes:\n",
    "            for v in colored_nodes:\n",
    "                if u!=v and g.has_edge(u,v):\n",
    "                    label = 1\n",
    "                    colored_edges +=1\n",
    "        if colored_edges <= 2: # at most 1 edge between colored nodes\n",
    "            break\n",
    "    data = from_networkx(g)\n",
    "    data.y = torch.tensor([label])\n",
    "    \n",
    "    data.x = torch.ones((g.number_of_nodes(),1))\n",
    "    \n",
    "    for u in colored_nodes:\n",
    "        data.x[u,0]=0\n",
    "\n",
    "    return data"
   ]
  },
  {
   "cell_type": "markdown",
   "metadata": {},
   "source": [
    "## We create 1000 graphs for train/test"
   ]
  },
  {
   "cell_type": "code",
   "execution_count": 4,
   "metadata": {
    "ExecuteTime": {
     "end_time": "2021-02-03T16:37:23.479334Z",
     "start_time": "2021-02-03T16:37:22.582336Z"
    }
   },
   "outputs": [],
   "source": [
    "GRAPH_NUM = 1000\n",
    "dataset = [create_graph() for i in range(GRAPH_NUM)]\n",
    "NUM_FEATURES = 1"
   ]
  },
  {
   "cell_type": "markdown",
   "metadata": {},
   "source": [
    "# GNN Model\n",
    "We use a general GNN model where can configure via initialization parameters"
   ]
  },
  {
   "cell_type": "code",
   "execution_count": 5,
   "metadata": {
    "ExecuteTime": {
     "end_time": "2021-02-03T16:37:26.571438Z",
     "start_time": "2021-02-03T16:37:26.558923Z"
    }
   },
   "outputs": [],
   "source": [
    "class Net(torch.nn.Module):\n",
    "    def __init__(self, num_node_features, num_classes, num_layers, concat_features, pre_processing):\n",
    "        super(Net, self).__init__()\n",
    "        dim = 32\n",
    "        self.convs = torch.nn.ModuleList()\n",
    "        self.pre_processing = pre_processing\n",
    "\n",
    "        if self.pre_processing:\n",
    "            self.pre_fc1 = Linear(num_node_features, dim)\n",
    "            self.pre_fc2 = Linear(dim, dim)\n",
    "            before_conv_dim = dim\n",
    "        else:\n",
    "            before_conv_dim = num_node_features\n",
    "        self.convs.append(GraphConv(before_conv_dim, dim))\n",
    "        for i in range(num_layers - 1):\n",
    "            self.convs.append(GraphConv(dim, dim))\n",
    "        self.concat_features = concat_features\n",
    "        if concat_features:\n",
    "            self.fc1 = Linear(dim * num_layers + before_conv_dim, dim)\n",
    "        else:\n",
    "            self.fc1 = Linear(dim, dim)\n",
    "        self.fc2 = Linear(dim, num_classes)\n",
    "\n",
    "    def forward(self, x, edge_index, batch, edge_weight=None):\n",
    "        if self.pre_processing:\n",
    "            x = F.relu(self.pre_fc1(x))\n",
    "            x = F.relu(self.pre_fc2(x))\n",
    "        xs = [x]\n",
    "        for conv in self.convs:\n",
    "            x = conv(x, edge_index, edge_weight)\n",
    "            x = F.relu(x)\n",
    "            xs.append(x)\n",
    "        if self.concat_features:\n",
    "            x = torch.cat(xs, dim=1)\n",
    "        x = global_add_pool(x, batch)\n",
    "        x = F.relu(self.fc1(x))\n",
    "        x = self.fc2(x)\n",
    "        return F.log_softmax(x, dim=-1)\n"
   ]
  },
  {
   "cell_type": "code",
   "execution_count": 7,
   "metadata": {
    "ExecuteTime": {
     "end_time": "2021-02-03T16:38:43.734689Z",
     "start_time": "2021-02-03T16:38:43.729058Z"
    }
   },
   "outputs": [],
   "source": [
    "test_dataset = dataset[:len(dataset) // 10]\n",
    "train_dataset = dataset[len(dataset) // 10:]\n",
    "test_loader = DataLoader(test_dataset, batch_size=64)\n",
    "train_loader = DataLoader(train_dataset, batch_size=64)"
   ]
  },
  {
   "cell_type": "code",
   "execution_count": 8,
   "metadata": {
    "ExecuteTime": {
     "end_time": "2021-02-03T16:38:44.520885Z",
     "start_time": "2021-02-03T16:38:44.508222Z"
    },
    "scrolled": false
   },
   "outputs": [],
   "source": [
    "device = torch.device('cuda' if torch.cuda.is_available() else 'cpu')\n",
    "\n",
    "def train(model, optimizer):\n",
    "    model.train()\n",
    "    loss_all = 0\n",
    "    for data in train_loader:\n",
    "        data = data.to(device)\n",
    "        optimizer.zero_grad()\n",
    "        output = model(data.x, data.edge_index, data.batch)\n",
    "        loss = F.nll_loss(output, data.y)\n",
    "        loss.backward()\n",
    "        loss_all += loss.item() * data.num_graphs\n",
    "        optimizer.step()\n",
    "    return loss_all / len(train_dataset)\n",
    "\n",
    "\n",
    "def test(model, loader):\n",
    "    model.eval()\n",
    "\n",
    "    correct = 0\n",
    "    for data in loader:\n",
    "        data = data.to(device)\n",
    "        output = model(data.x, data.edge_index, data.batch)\n",
    "        pred = output.max(dim=1)[1]\n",
    "        correct += pred.eq(data.y).sum().item()\n",
    "    return correct / len(loader.dataset)\n",
    "\n",
    "def train_and_test(model):\n",
    "    optimizer = torch.optim.Adam(model.parameters(), lr=0.0003, weight_decay=5e-4)\n",
    "    pbar = tq(range(150))\n",
    "    for epoch in pbar:\n",
    "        train_loss = train(model, optimizer)\n",
    "        train_acc = test(model, train_loader)\n",
    "        test_acc = test(model, test_loader)\n",
    "        pbar.set_postfix(train_loss = train_loss,train_acc=train_acc,test_acc=test_acc)\n",
    "#         print('Epoch: {:03d}, Train Loss: {:.7f}, '\n",
    "#               'Train Acc: {:.7f}, Test Acc: {:.7f}'.format(epoch, train_loss,\n",
    "#                                                            train_acc, test_acc))"
   ]
  },
  {
   "cell_type": "code",
   "execution_count": 9,
   "metadata": {
    "ExecuteTime": {
     "end_time": "2021-02-03T16:39:11.379891Z",
     "start_time": "2021-02-03T16:39:11.362317Z"
    }
   },
   "outputs": [],
   "source": [
    "model1 = Net(num_node_features=1, num_classes=2,num_layers=3, concat_features=True, pre_processing=False).to(device)\n",
    "model1.desc='without_preprocess'\n",
    "\n",
    "model2 = Net(num_node_features=1, num_classes=2,num_layers=3, concat_features=True, pre_processing=True).to(device)\n",
    "model2.desc='with_preprocess'"
   ]
  },
  {
   "cell_type": "code",
   "execution_count": 10,
   "metadata": {
    "ExecuteTime": {
     "end_time": "2021-02-03T16:42:00.060463Z",
     "start_time": "2021-02-03T16:39:11.707661Z"
    }
   },
   "outputs": [
    {
     "data": {
      "application/vnd.jupyter.widget-view+json": {
       "model_id": "80f1f0b0156c4848b9fa0563a1c18100",
       "version_major": 2,
       "version_minor": 0
      },
      "text/plain": [
       "HBox(children=(FloatProgress(value=0.0, max=150.0), HTML(value='')))"
      ]
     },
     "metadata": {},
     "output_type": "display_data"
    },
    {
     "name": "stdout",
     "output_type": "stream",
     "text": [
      "\n"
     ]
    },
    {
     "data": {
      "application/vnd.jupyter.widget-view+json": {
       "model_id": "7175ad3a098443f587291f175e1a9f4d",
       "version_major": 2,
       "version_minor": 0
      },
      "text/plain": [
       "HBox(children=(FloatProgress(value=0.0, max=150.0), HTML(value='')))"
      ]
     },
     "metadata": {},
     "output_type": "display_data"
    },
    {
     "name": "stdout",
     "output_type": "stream",
     "text": [
      "\n"
     ]
    }
   ],
   "source": [
    "train_and_test(model1)\n",
    "train_and_test(model2)"
   ]
  },
  {
   "cell_type": "markdown",
   "metadata": {},
   "source": [
    "# Defining the explanation method\n",
    "Here we use saliency and integrated gradients on edge weights, we use the same method throughout the whole experiment in order to show how much model architecture can affect the explanation"
   ]
  },
  {
   "cell_type": "code",
   "execution_count": 20,
   "metadata": {
    "ExecuteTime": {
     "end_time": "2021-02-03T16:45:13.493149Z",
     "start_time": "2021-02-03T16:45:13.481657Z"
    }
   },
   "outputs": [],
   "source": [
    "def explain(model, method, data, target):\n",
    "    def model_forward(edge_mask, data):\n",
    "        batch = torch.zeros(data.x.shape[0], dtype=int)\n",
    "        out = model(data.x, data.edge_index, batch, edge_mask)\n",
    "        return out\n",
    "    input_mask = torch.ones(data.edge_index.shape[1]).requires_grad_(True).to(device)\n",
    "    if method == 'ig':\n",
    "        ig = IntegratedGradients(model_forward)\n",
    "        mask = ig.attribute(input_mask, target=target,\n",
    "                            additional_forward_args=(data,),\n",
    "                            internal_batch_size=data.edge_index.shape[1])\n",
    "    elif method == 'gradients':\n",
    "        saliency = Saliency(model_forward)\n",
    "        mask = saliency.attribute(input_mask, target=target,\n",
    "                                  additional_forward_args=(data,), abs=False)\n",
    "    else:\n",
    "        raise Exception('Unknown explanation method')\n",
    "\n",
    "    edge_mask = mask.detach().numpy()\n",
    "    \n",
    "    # we use the absolute value since it does not matter\n",
    "    # that edge weight affect the result positvely or negatively\n",
    "    edge_mask = np.abs(edge_mask)\n",
    "    if edge_mask.max() > 0:  # avoid division by zero\n",
    "        edge_mask = edge_mask / edge_mask.max()\n",
    "    \n",
    "    edge_attribution = defaultdict(float)\n",
    "    for value, u, v in list(zip(edge_mask, *data.edge_index.numpy())):            \n",
    "        edge_attribution[(min(u,v),max(u,v))] += value\n",
    "    return edge_attribution"
   ]
  },
  {
   "cell_type": "code",
   "execution_count": 12,
   "metadata": {
    "ExecuteTime": {
     "end_time": "2021-02-03T16:42:02.041611Z",
     "start_time": "2021-02-03T16:42:02.036836Z"
    }
   },
   "outputs": [],
   "source": [
    "def make_colorblind_friendly(node_color):\n",
    "    colors = []\n",
    "    for value in node_color:\n",
    "        colors.append('#FFB000' if value == 0 else '#648FFF') # Based on IBM palette\n",
    "    return colors"
   ]
  },
  {
   "cell_type": "markdown",
   "metadata": {},
   "source": [
    "# Visualizing the explanations\n",
    "Here we pick a single graph from the dataset, and try to explain the prediction for both models via the same explanation method (Integrated Gradients or Edge Gradients)"
   ]
  },
  {
   "cell_type": "code",
   "execution_count": 21,
   "metadata": {
    "ExecuteTime": {
     "end_time": "2021-02-03T16:45:15.764152Z",
     "start_time": "2021-02-03T16:45:15.146523Z"
    }
   },
   "outputs": [
    {
     "data": {
      "image/png": "[encoded data removed]",
      "text/plain": [
       "<Figure size 1080x432 with 2 Axes>"
      ]
     },
     "metadata": {},
     "output_type": "display_data"
    }
   ],
   "source": [
    "dds = random.choice([data for data in dataset if data.y.item()])\n",
    "METHOD = 'ig' # you can change this to gradients\n",
    "plt.figure(figsize=(15,6))\n",
    "g = to_networkx(dds).to_undirected()\n",
    "pos = nx.kamada_kawai_layout(g)\n",
    "for idx, model in enumerate([model1,model2]):\n",
    "    model.eval()\n",
    "    edge_attribution = explain(model, METHOD, dds,target=dds.y.item())\n",
    "\n",
    "    plt.subplot(1,2,idx+1)\n",
    "    plt.title(model.desc)\n",
    "    node_color = -dds.x.numpy()\n",
    "    edge_color = [edge_attribution[(u,v)] for u,v in g.edges()]\n",
    "    nx.draw(g, pos=pos, node_color=make_colorblind_friendly(node_color), edge_color=edge_color, edge_cmap=plt.get_cmap('Greys'))\n",
    "\n",
    "plt.show()"
   ]
  },
  {
   "cell_type": "markdown",
   "metadata": {},
   "source": [
    "## Save plots as pdf"
   ]
  },
  {
   "cell_type": "code",
   "execution_count": 30,
   "metadata": {
    "ExecuteTime": {
     "end_time": "2021-02-02T20:16:20.671372Z",
     "start_time": "2021-02-02T20:16:19.446412Z"
    }
   },
   "outputs": [
    {
     "data": {
      "image/png": "[encoded data removed]",
      "text/plain": [
       "<Figure size 432x288 with 1 Axes>"
      ]
     },
     "metadata": {},
     "output_type": "display_data"
    },
    {
     "data": {
      "image/png": "[encoded data removed]",
      "text/plain": [
       "<Figure size 432x288 with 1 Axes>"
      ]
     },
     "metadata": {},
     "output_type": "display_data"
    }
   ],
   "source": [
    "for idx, model in enumerate([model1,model2]):\n",
    "#     pp = PdfPages(model.desc+'.pdf')\n",
    "    f = plt.figure()\n",
    "    plt.clf()\n",
    "    model.eval()\n",
    "    edge_attribution = explain(model, METHOD, dds,target=dds.y.item())\n",
    "    node_color = -dds.x.numpy()\n",
    "    edge_color = [edge_attribution[(u,v)] for u,v in g.edges()]\n",
    "    nx.draw(g, pos=pos, node_color=make_colorblind_friendly(node_color), edge_color=edge_color, edge_cmap=plt.get_cmap('Greys'))\n",
    "    plt.show()\n",
    "    f.savefig(model.desc+\".pdf\")\n",
    "#     pp.savefig()\n"
   ]
  },
  {
   "cell_type": "markdown",
   "metadata": {},
   "source": [
    "# Quantifiying the differences\n",
    "We calculate the attribution value for all unimportant edges and we expect them to be close to 0, we plot the distribution of attribution value for unimportant edges on all graphs for both models. We also consider an explanation correct, if the most important edge in explanation is the edge between two yellow nodes and use that to calculate the explanation accuracy."
   ]
  },
  {
   "cell_type": "code",
   "execution_count": 22,
   "metadata": {
    "ExecuteTime": {
     "end_time": "2021-02-03T16:45:33.620213Z",
     "start_time": "2021-02-03T16:45:33.611451Z"
    }
   },
   "outputs": [],
   "source": [
    "def calculate_avg_wrong(model):\n",
    "    METHOD = 'ig'\n",
    "    model.eval()\n",
    "    avg_wrong_masks = []\n",
    "    accuracy = []\n",
    "\n",
    "    for dds in tq(dataset):\n",
    "        if not dds.y.item():\n",
    "            continue\n",
    "        mask_sum = []\n",
    "        edge_attribution = explain(model, METHOD, dds,target=dds.y.item())\n",
    "        for (u, v), value in edge_attribution.items():\n",
    "            if dds.x[u].item() != 1.0 and dds.x[v].item() != 1.0: # skip the important edge\n",
    "                right_edge_value = value\n",
    "                continue\n",
    "            mask_sum.append(value)\n",
    "        if max(edge_attribution.values()) == right_edge_value:\n",
    "            accuracy.append(1)\n",
    "        else:\n",
    "            accuracy.append(0)\n",
    "        avg_wrong_masks.append(np.mean(mask_sum))\n",
    "    return avg_wrong_masks, accuracy"
   ]
  },
  {
   "cell_type": "code",
   "execution_count": 23,
   "metadata": {
    "ExecuteTime": {
     "end_time": "2021-02-03T16:45:40.890179Z",
     "start_time": "2021-02-03T16:45:38.167167Z"
    },
    "scrolled": true
   },
   "outputs": [
    {
     "data": {
      "application/vnd.jupyter.widget-view+json": {
       "model_id": "eca6ec8651eb4614885adecfdaa01d79",
       "version_major": 2,
       "version_minor": 0
      },
      "text/plain": [
       "HBox(children=(FloatProgress(value=0.0, max=1000.0), HTML(value='')))"
      ]
     },
     "metadata": {},
     "output_type": "display_data"
    },
    {
     "name": "stdout",
     "output_type": "stream",
     "text": [
      "\n"
     ]
    },
    {
     "data": {
      "application/vnd.jupyter.widget-view+json": {
       "model_id": "ba357c3130c34396a7b415ca108db4ed",
       "version_major": 2,
       "version_minor": 0
      },
      "text/plain": [
       "HBox(children=(FloatProgress(value=0.0, max=1000.0), HTML(value='')))"
      ]
     },
     "metadata": {},
     "output_type": "display_data"
    },
    {
     "name": "stdout",
     "output_type": "stream",
     "text": [
      "\n"
     ]
    }
   ],
   "source": [
    "avg_wrong_masks_model1, accuracy_model1 = calculate_avg_wrong(model1)\n",
    "avg_wrong_masks_model2, accuracy_model2 = calculate_avg_wrong(model2)"
   ]
  },
  {
   "cell_type": "code",
   "execution_count": 28,
   "metadata": {
    "ExecuteTime": {
     "end_time": "2021-02-03T16:47:40.847562Z",
     "start_time": "2021-02-03T16:47:40.840571Z"
    }
   },
   "outputs": [
    {
     "name": "stdout",
     "output_type": "stream",
     "text": [
      "Explanation accuracy for model without_preprocess 1.0\n",
      "Explanation accuracy for model with_preprocess 1.0\n"
     ]
    }
   ],
   "source": [
    "print('Explanation accuracy for model ' + model1.desc, np.mean(accuracy_model1))\n",
    "print('Explanation accuracy for model ' + model2.desc, np.mean(accuracy_model2))"
   ]
  },
  {
   "cell_type": "markdown",
   "metadata": {},
   "source": [
    "Altough the explanation method can detect the most important edge correctly in both models, it generally assigns higher value to unimportant edges when the model does not preprocess the node features."
   ]
  },
  {
   "cell_type": "code",
   "execution_count": 27,
   "metadata": {
    "ExecuteTime": {
     "end_time": "2021-02-03T16:47:12.170891Z",
     "start_time": "2021-02-03T16:47:11.513126Z"
    }
   },
   "outputs": [
    {
     "data": {
      "text/plain": [
       "<matplotlib.legend.Legend at 0x13d32b160>"
      ]
     },
     "execution_count": 27,
     "metadata": {},
     "output_type": "execute_result"
    },
    {
     "data": {
      "image/png": "[encoded data removed]",
      "text/plain": [
       "<Figure size 432x288 with 1 Axes>"
      ]
     },
     "metadata": {
      "needs_background": "light"
     },
     "output_type": "display_data"
    }
   ],
   "source": [
    "plt.hist(avg_wrong_masks_model1, bins=100, label=model1.desc)\n",
    "plt.hist(avg_wrong_masks_model2, bins=100, label=model2.desc)\n",
    "plt.ylabel('Count')\n",
    "plt.xlabel('Average attribution value for unimportant edges')\n",
    "plt.legend()"
   ]
  }
 ],
 "metadata": {
  "kernelspec": {
   "display_name": "Python 3",
   "language": "python",
   "name": "python3"
  },
  "language_info": {
   "codemirror_mode": {
    "name": "ipython",
    "version": 3
   },
   "file_extension": ".py",
   "mimetype": "text/x-python",
   "name": "python",
   "nbconvert_exporter": "python",
   "pygments_lexer": "ipython3",
   "version": "3.8.3"
  },
  "toc": {
   "base_numbering": 1,
   "nav_menu": {},
   "number_sections": true,
   "sideBar": true,
   "skip_h1_title": false,
   "title_cell": "Table of Contents",
   "title_sidebar": "Contents",
   "toc_cell": false,
   "toc_position": {},
   "toc_section_display": true,
   "toc_window_display": false
  }
 },
 "nbformat": 4,
 "nbformat_minor": 4
}
